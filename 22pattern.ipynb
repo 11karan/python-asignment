{
 "cells": [
  {
   "cell_type": "code",
   "execution_count": 9,
   "id": "35af2498-e082-4398-a90f-06f138240d47",
   "metadata": {},
   "outputs": [
    {
     "name": "stdout",
     "output_type": "stream",
     "text": [
      "* * * *  \n",
      " * * * *  \n",
      "  * * * *  \n",
      "   * * * *  \n"
     ]
    }
   ],
   "source": [
    "for i in range(0,4):\n",
    "    for j in range(0,4):\n",
    "        if(j<i):\n",
    "            print(end =' ' )\n",
    "    for k in range(0,4):\n",
    "        print(end = '* ')\n",
    "    print(' ')"
   ]
  },
  {
   "cell_type": "code",
   "execution_count": 3,
   "id": "d402dd9d-e8f3-4c06-b3a9-5ff7c10e90fb",
   "metadata": {},
   "outputs": [
    {
     "name": "stdout",
     "output_type": "stream",
     "text": [
      "*  *  *  *  *  *  *   \n",
      " \n",
      "*                 *   \n",
      " \n",
      "*                 *   \n",
      " \n",
      "*  *  *  *  *  *  *   \n"
     ]
    }
   ],
   "source": [
    "for i in range(1,8):\n",
    "    if(i%2==0):\n",
    "        i+=1\n",
    "        print(' ')\n",
    "        continue\n",
    "    for j in range(1,8):\n",
    "        if(i == 1 or j == 1 or i == 7 or j == 7):\n",
    "            print('* ',end= ' ')\n",
    "        else:\n",
    "            print('  ',end=' ')\n",
    "    print(' ')"
   ]
  },
  {
   "cell_type": "code",
   "execution_count": 9,
   "id": "57c0ef1d-e9de-4b67-9ac6-c73bb1b2c2f4",
   "metadata": {},
   "outputs": [
    {
     "name": "stdout",
     "output_type": "stream",
     "text": [
      "A  \n",
      "A B  \n",
      "A B C  \n",
      "A B C D  \n",
      "A B C D E  \n"
     ]
    }
   ],
   "source": [
    "for i in range(1,6):\n",
    "    a = 65\n",
    "    for j in range(1,i+1):\n",
    "        if(j<=i):\n",
    "            print(chr(a),end = \" \")\n",
    "        a+=1\n",
    "    print(' ')"
   ]
  },
  {
   "cell_type": "code",
   "execution_count": 11,
   "id": "0217c7b2-cc88-46c9-9f8b-b779df40f8ed",
   "metadata": {},
   "outputs": [
    {
     "name": "stdout",
     "output_type": "stream",
     "text": [
      "A  \n",
      "B B  \n",
      "C C C  \n",
      "D D D D  \n",
      "E E E E E  \n"
     ]
    }
   ],
   "source": [
    "a = 65\n",
    "for i in range(1,6):\n",
    "   \n",
    "    for j in range(1,i+1):\n",
    "        if(j<=i):\n",
    "            print(chr(a),end = \" \")\n",
    "    a+=1\n",
    "    print(' ')"
   ]
  },
  {
   "cell_type": "code",
   "execution_count": 13,
   "id": "21d3a4f6-81a8-41a4-a459-817a13ae6466",
   "metadata": {},
   "outputs": [
    {
     "name": "stdout",
     "output_type": "stream",
     "text": [
      "E  \n",
      "E D  \n",
      "E D C  \n",
      "E D C B  \n",
      "E D C B A  \n"
     ]
    }
   ],
   "source": [
    "for i in range(1,6):\n",
    "    a = 69\n",
    "    for j in range(1,i+1):\n",
    "        if(j<=i):\n",
    "            print(chr(a),end = \" \")\n",
    "        a-=1\n",
    "    print(' ')"
   ]
  },
  {
   "cell_type": "code",
   "execution_count": 7,
   "id": "b59b2a85-f149-46a4-b9cf-56f913904598",
   "metadata": {},
   "outputs": [
    {
     "name": "stdout",
     "output_type": "stream",
     "text": [
      "            *   \n",
      "         *  *   \n",
      "      *  *  *   \n",
      "   *  *  *  *   \n",
      "*  *  *  *  *   \n"
     ]
    }
   ],
   "source": [
    "for i in range(1,6):\n",
    "    for j in range(5,0,-1):\n",
    "        if(j<=i):\n",
    "            print('* ',end =' ')\n",
    "        else:\n",
    "            print(' ',end ='  ')\n",
    "    print(' ')"
   ]
  },
  {
   "cell_type": "code",
   "execution_count": null,
   "id": "3a6c328c-9642-4a16-a632-2f0a939768ec",
   "metadata": {},
   "outputs": [],
   "source": []
  }
 ],
 "metadata": {
  "kernelspec": {
   "display_name": "Python 3 (ipykernel)",
   "language": "python",
   "name": "python3"
  },
  "language_info": {
   "codemirror_mode": {
    "name": "ipython",
    "version": 3
   },
   "file_extension": ".py",
   "mimetype": "text/x-python",
   "name": "python",
   "nbconvert_exporter": "python",
   "pygments_lexer": "ipython3",
   "version": "3.13.3"
  }
 },
 "nbformat": 4,
 "nbformat_minor": 5
}
