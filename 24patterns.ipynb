{
 "cells": [
  {
   "cell_type": "code",
   "execution_count": 28,
   "id": "e616e8a4-4d6e-429c-af71-cc4fac9c9f36",
   "metadata": {},
   "outputs": [
    {
     "name": "stdout",
     "output_type": "stream",
     "text": [
      "    1  \n",
      "   1 2  \n",
      "  1   3  \n",
      " 1     4  \n",
      "1 2 3 4 5  \n"
     ]
    }
   ],
   "source": [
    "for i in range (1,6):\n",
    "    for k in range(i,5):\n",
    "        print('',end = ' ')\n",
    "    \n",
    "    for j in range (1,i+1):\n",
    "        if(j == 1 or i == 5 or j == i):\n",
    "            print(j,end = ' ')\n",
    "        else:\n",
    "            print(' ',end = ' ')\n",
    "    print(' ')"
   ]
  },
  {
   "cell_type": "code",
   "execution_count": 26,
   "id": "50e3cffc-de66-49c1-b867-21cd25e803d0",
   "metadata": {},
   "outputs": [
    {
     "name": "stdout",
     "output_type": "stream",
     "text": [
      "1 2 3 4 5  \n",
      "2     5  \n",
      "3   5  \n",
      "4 5  \n",
      "5  \n"
     ]
    }
   ],
   "source": [
    "for i in range (1,6):\n",
    "    for j in range (i,6):\n",
    "        if(j == i or i == 1 or j == 5):\n",
    "            print(j,end = ' ')\n",
    "        else:\n",
    "            print(' ',end = ' ')\n",
    "    print(' ')"
   ]
  },
  {
   "cell_type": "code",
   "execution_count": 49,
   "id": "f051d5fe-fd88-4d38-86fa-2ba267547520",
   "metadata": {},
   "outputs": [
    {
     "name": "stdout",
     "output_type": "stream",
     "text": [
      "    1 \n",
      "   123 \n",
      "  12345 \n",
      " 1234567 \n",
      "123456789 \n",
      " 1234567 \n",
      "  12345 \n",
      "   123 \n",
      "    1 \n"
     ]
    }
   ],
   "source": [
    "for i in range (1,6):\n",
    "    for k in range(i,5):\n",
    "        print('',end = ' ')\n",
    "    \n",
    "    for j in range (1,2*i):\n",
    "        print(j,end = '')\n",
    "    print(' ')\n",
    "for s in range (5,1,-1):\n",
    "     for k in range(s,6):\n",
    "        print('',end = ' ')\n",
    "    \n",
    "     for j in range (1,2*(s-1)):\n",
    "        print(j,end = '')\n",
    "     print(' ')"
   ]
  },
  {
   "cell_type": "code",
   "execution_count": 50,
   "id": "0e0e01f0-c96b-4c17-895b-807d2665bfbd",
   "metadata": {},
   "outputs": [
    {
     "name": "stdout",
     "output_type": "stream",
     "text": [
      "    * \n",
      "   *** \n",
      "  ***** \n",
      " ******* \n",
      "********* \n",
      " ******* \n",
      "  ***** \n",
      "   *** \n",
      "    * \n"
     ]
    }
   ],
   "source": [
    "for i in range (1,6):\n",
    "    for k in range(i,5):\n",
    "        print('',end = ' ')\n",
    "    \n",
    "    for j in range (1,2*i):\n",
    "        print('*',end = '')\n",
    "    print(' ')\n",
    "for s in range (5,1,-1):\n",
    "     for k in range(s,6):\n",
    "        print('',end = ' ')\n",
    "    \n",
    "     for j in range (1,2*(s-1)):\n",
    "        print('*',end = '')\n",
    "     print(' ')"
   ]
  },
  {
   "cell_type": "code",
   "execution_count": 54,
   "id": "06218ace-831b-4a48-b8ad-5e964df0e782",
   "metadata": {},
   "outputs": [
    {
     "name": "stdout",
     "output_type": "stream",
     "text": [
      "********* \n",
      " ******* \n",
      "  ***** \n",
      "   *** \n",
      "    * \n",
      "   *** \n",
      "  ***** \n",
      " ******* \n",
      "********* \n"
     ]
    }
   ],
   "source": [
    "for s in range (6,1,-1):\n",
    "     for k in range(s,6):\n",
    "        print('',end = ' ')\n",
    "    \n",
    "     for j in range (1,2*(s-1)):\n",
    "        print('*',end = '')\n",
    "     print(' ')\n",
    "for i in range (2,6):\n",
    "    for k in range(i,5):\n",
    "        print('',end = ' ')\n",
    "    \n",
    "    for j in range (1,2*i):\n",
    "        print('*',end = '')\n",
    "    print(' ')"
   ]
  },
  {
   "cell_type": "code",
   "execution_count": 89,
   "id": "294da2b5-e19b-47fb-a10d-128bdbcdf164",
   "metadata": {},
   "outputs": [
    {
     "name": "stdout",
     "output_type": "stream",
     "text": [
      "123456789 \n",
      " 1234567 \n",
      "  12345 \n",
      "   123 \n",
      "    1 \n",
      "   123 \n",
      "  12345 \n",
      " 1234567 \n",
      "123456789 \n"
     ]
    }
   ],
   "source": [
    "for s in range (6,1,-1):\n",
    "     for k in range(s,6):\n",
    "        print('',end = ' ')\n",
    "    \n",
    "     for j in range (1,2*(s-1)):\n",
    "        print(j,end = '')\n",
    "     print(' ')\n",
    "for i in range (2,6):\n",
    "    for k in range(i,5):\n",
    "        print('',end = ' ')\n",
    "    \n",
    "    for j in range (1,2*i):\n",
    "        print(j,end = '')\n",
    "    print(' ')"
   ]
  },
  {
   "cell_type": "code",
   "execution_count": 59,
   "id": "ff642ab2-9de6-4c61-b41f-77ff7b7408cc",
   "metadata": {},
   "outputs": [
    {
     "name": "stdout",
     "output_type": "stream",
     "text": [
      "* * * * *  \n",
      "*       *  \n",
      "*       *  \n",
      "*       *  \n",
      "* * * * *  \n"
     ]
    }
   ],
   "source": [
    "for i in range(1,6):\n",
    "    for j in range(1,6):\n",
    "        if(i == 1 or j == 1 or i == 5 or j == 5):\n",
    "                print('*',end = ' ')\n",
    "        else:\n",
    "            print(' ',end = ' ')\n",
    "    print(' ')"
   ]
  },
  {
   "cell_type": "code",
   "execution_count": 60,
   "id": "ef54ade0-6e8c-45be-83c6-c2c5dde11544",
   "metadata": {},
   "outputs": [
    {
     "name": "stdout",
     "output_type": "stream",
     "text": [
      "1 2 3 4 5  \n",
      "1       5  \n",
      "1       5  \n",
      "1       5  \n",
      "1 2 3 4 5  \n"
     ]
    }
   ],
   "source": [
    "for i in range(1,6):\n",
    "    for j in range(1,6):\n",
    "        if(i == 1 or j == 1 or i == 5 or j == 5):\n",
    "                print(j,end = ' ')\n",
    "        else:\n",
    "            print(' ',end = ' ')\n",
    "    print(' ')"
   ]
  },
  {
   "cell_type": "code",
   "execution_count": 62,
   "id": "1651468f-b958-4a89-83db-e349d960e6f9",
   "metadata": {},
   "outputs": [
    {
     "name": "stdout",
     "output_type": "stream",
     "text": [
      "A B C D E  \n",
      "A       E  \n",
      "A       E  \n",
      "A       E  \n",
      "A B C D E  \n"
     ]
    }
   ],
   "source": [
    "for i in range(1,6):\n",
    "    for j in range(65,70):\n",
    "        if(i == 1 or j == 65 or i == 5 or j == 69):\n",
    "                print(chr(j),end = ' ')\n",
    "        else:\n",
    "            print(' ',end = ' ')\n",
    "    print(' ')"
   ]
  },
  {
   "cell_type": "code",
   "execution_count": 72,
   "id": "26e62d24-4a7f-4c28-97e7-e1465a227f13",
   "metadata": {},
   "outputs": [
    {
     "name": "stdout",
     "output_type": "stream",
     "text": [
      "        *  \n",
      "      *   *  \n",
      "    *       *  \n",
      "  *           *  \n",
      "*               *  \n",
      "  *           *  \n",
      "    *       *  \n",
      "      *   *  \n",
      "        *  \n"
     ]
    }
   ],
   "source": [
    "for i in range (1,6):\n",
    "    for j in range (i,5):\n",
    "        print(' ', end = ' ')\n",
    "    for k in range(1,2*i):\n",
    "        if(k == 1 or k == 2*i-1):\n",
    "            print('*', end =' ')\n",
    "        else:\n",
    "            print(' ',end  = ' ')\n",
    "    print(' ')\n",
    "for s in range (5,1,-1):\n",
    "     for k in range(s,6):\n",
    "        print(' ',end = ' ')\n",
    "    \n",
    "     for j in range (1,2*(s-1)):\n",
    "         if( j == 1 or  j ==2*(s-1)-1 ):\n",
    "            print('*',end = ' ')\n",
    "         else:\n",
    "             print(' ',end = ' ')\n",
    "\n",
    "     print(' ')"
   ]
  },
  {
   "cell_type": "code",
   "execution_count": 86,
   "id": "552118c1-84b8-4c69-a30b-b6eebc3ffa8f",
   "metadata": {},
   "outputs": [
    {
     "name": "stdout",
     "output_type": "stream",
     "text": [
      "        A  \n",
      "      A   C  \n",
      "    A       E  \n",
      "  A           G  \n",
      "A               I  \n",
      "  A           G  \n",
      "    A       E  \n",
      "      A   C  \n",
      "        A  \n"
     ]
    }
   ],
   "source": [
    "for i in range (1,6):\n",
    "    a = 65\n",
    "    for j in range (i,5):\n",
    "        print(' ', end = ' ')\n",
    "    for k in range(1,2*i):\n",
    "        if(k == 1 or k == 2*i-1):\n",
    "            print(chr(a), end =' ')\n",
    "        \n",
    "        else:\n",
    "            print(' ',end  = ' ')\n",
    "        a+=1\n",
    "    print(' ')\n",
    "for s in range (5,1,-1):\n",
    "    a = 65\n",
    "    for k in range(s,6):\n",
    "        print(' ',end = ' ')\n",
    "    for j in range (1,2*(s-1)):\n",
    "         if( j == 1 or  j ==2*(s-1)-1 ):\n",
    "            print(chr(a),end = ' ')\n",
    "         else:\n",
    "             print(' ',end = ' ')\n",
    "         a+=1\n",
    "    print(' ')"
   ]
  },
  {
   "cell_type": "code",
   "execution_count": null,
   "id": "a690fa39-8df6-46ce-a135-715fbc623309",
   "metadata": {},
   "outputs": [],
   "source": []
  }
 ],
 "metadata": {
  "kernelspec": {
   "display_name": "Python 3 (ipykernel)",
   "language": "python",
   "name": "python3"
  },
  "language_info": {
   "codemirror_mode": {
    "name": "ipython",
    "version": 3
   },
   "file_extension": ".py",
   "mimetype": "text/x-python",
   "name": "python",
   "nbconvert_exporter": "python",
   "pygments_lexer": "ipython3",
   "version": "3.13.3"
  }
 },
 "nbformat": 4,
 "nbformat_minor": 5
}
