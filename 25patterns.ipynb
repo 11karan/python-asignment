{
 "cells": [
  {
   "cell_type": "code",
   "execution_count": 14,
   "id": "dee94f8a-fadb-47a9-a675-2cb7e79b1f4a",
   "metadata": {},
   "outputs": [
    {
     "name": "stdout",
     "output_type": "stream",
     "text": [
      "*                 *  \n",
      "* *             * *  \n",
      "* * *         * * *  \n",
      "* * * *     * * * *  \n",
      "* * * * * * * * * *  \n",
      "* * * *     * * * *  \n",
      "* * *         * * *  \n",
      "* *             * *  \n",
      "*                 *  \n"
     ]
    }
   ],
   "source": [
    "for i in range (1,6):\n",
    "    for j in range (1,11):\n",
    "        if(j<=0+i or j>10-i):\n",
    "            print('*',end =' ')\n",
    "        else:\n",
    "            print(' ',end = ' ')\n",
    "    print(' ')\n",
    "for i in range (1,5):\n",
    "    for j in range (1,11):\n",
    "        if(j<=5-i or j>5+i):\n",
    "            print('*',end =' ')\n",
    "        else:\n",
    "            print(' ',end = ' ')\n",
    "    print(' ')"
   ]
  },
  {
   "cell_type": "code",
   "execution_count": 17,
   "id": "d815095f-d31c-438f-a0a4-f0687bf82b92",
   "metadata": {},
   "outputs": [
    {
     "name": "stdout",
     "output_type": "stream",
     "text": [
      "* * * * * * * * * *  \n",
      "* * * *     * * * *  \n",
      "* * *         * * *  \n",
      "* *             * *  \n",
      "*                 *  \n",
      "*                 *  \n",
      "* *             * *  \n",
      "* * *         * * *  \n",
      "* * * *     * * * *  \n",
      "* * * * * * * * * *  \n"
     ]
    }
   ],
   "source": [
    "for i in range (1,6):\n",
    "    for j in range (1,11):\n",
    "        if(j<=6-i or j>4+i):\n",
    "            print('*',end =' ')\n",
    "        else:\n",
    "            print(' ',end = ' ')\n",
    "    print(' ')\n",
    "for i in range (1,6):\n",
    "    for j in range (1,11):\n",
    "        if(j<=0+i or j>10-i):\n",
    "            print('*',end =' ')\n",
    "        else:\n",
    "            print(' ',end = ' ')\n",
    "    print(' ')"
   ]
  },
  {
   "cell_type": "code",
   "execution_count": 43,
   "id": "69693f78-674e-40e7-a6c7-7c5c014a9fcf",
   "metadata": {},
   "outputs": [
    {
     "name": "stdout",
     "output_type": "stream",
     "text": [
      "    1  \n",
      "   1 1  \n",
      "  1 2 1  \n",
      " 1 3 3 1  \n",
      "1 4 4 4 1  \n"
     ]
    }
   ],
   "source": [
    "sum = 0\n",
    "for i in range(6,1,-1):\n",
    "    x = 1\n",
    "    for j in range(1,i-1):\n",
    "        print('',end = ' ')\n",
    "    for k in range(1,8-i):\n",
    "        if(k == 1 or k == 7-i):\n",
    "            print(x,end = ' ')\n",
    "        else:\n",
    "            print(sum,end = ' ')\n",
    "    sum+=x\n",
    "    print(' ')"
   ]
  },
  {
   "cell_type": "code",
   "execution_count": null,
   "id": "65d0afed-d00e-4bec-b872-923b7886fa80",
   "metadata": {},
   "outputs": [],
   "source": []
  }
 ],
 "metadata": {
  "kernelspec": {
   "display_name": "Python 3 (ipykernel)",
   "language": "python",
   "name": "python3"
  },
  "language_info": {
   "codemirror_mode": {
    "name": "ipython",
    "version": 3
   },
   "file_extension": ".py",
   "mimetype": "text/x-python",
   "name": "python",
   "nbconvert_exporter": "python",
   "pygments_lexer": "ipython3",
   "version": "3.13.3"
  }
 },
 "nbformat": 4,
 "nbformat_minor": 5
}
