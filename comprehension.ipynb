{
 "cells": [
  {
   "cell_type": "code",
   "execution_count": 2,
   "id": "3ae7ffa5-4efd-444b-a1a9-1b2189109cc4",
   "metadata": {},
   "outputs": [
    {
     "name": "stdin",
     "output_type": "stream",
     "text": [
      "enter the nmber 12\n"
     ]
    },
    {
     "name": "stdout",
     "output_type": "stream",
     "text": [
      "[2, 4, 6, 8, 10, 12]\n"
     ]
    }
   ],
   "source": [
    "# LIST \n",
    "#even filtering\n",
    "n = int(input('enter the nmber'))\n",
    "list1 = [x for x in range(1,n+1) if x%2 == 0]\n",
    "print(list1)"
   ]
  },
  {
   "cell_type": "code",
   "execution_count": 3,
   "id": "61aadb12-5c14-443f-b1f8-13168d4c0290",
   "metadata": {},
   "outputs": [
    {
     "name": "stdin",
     "output_type": "stream",
     "text": [
      "enter the nmber 12\n"
     ]
    },
    {
     "name": "stdout",
     "output_type": "stream",
     "text": [
      "[1, 3, 5, 7, 9, 11]\n"
     ]
    }
   ],
   "source": [
    "n = int(input('enter the nmber'))\n",
    "list1 = [x for x in range(1,n+1) if x%2 != 0]\n",
    "print(list1)"
   ]
  },
  {
   "cell_type": "code",
   "execution_count": 4,
   "id": "03331f03-ef3c-4c25-93d9-f1121f768ca3",
   "metadata": {},
   "outputs": [
    {
     "name": "stdout",
     "output_type": "stream",
     "text": [
      "['KARAN', 'SINGH', 'XYZ']\n"
     ]
    }
   ],
   "source": [
    "names = ['karan', 'singh', 'xyz']\n",
    "upper_names = [name.upper() for name in names]\n",
    "print(upper_names)"
   ]
  },
  {
   "cell_type": "code",
   "execution_count": 6,
   "id": "35d800cc-d582-4e3b-a188-5b99ec1789b6",
   "metadata": {},
   "outputs": [
    {
     "name": "stdout",
     "output_type": "stream",
     "text": [
      "[1, 2, 3, 4, 5, 6, [7, 8]]\n"
     ]
    }
   ],
   "source": [
    "# FLATENN NESTED LIST\n",
    "nested = [[1,2,3],[4,5],[6,[7,8]]]\n",
    "flatten = []\n",
    "for sublist in nested:\n",
    "    for items in sublist:\n",
    "        flatten.append(items)\n",
    "print(flatten)"
   ]
  },
  {
   "cell_type": "code",
   "execution_count": 15,
   "id": "e96b1c42-f983-412e-b8e9-e20976787d7e",
   "metadata": {},
   "outputs": [
    {
     "name": "stdout",
     "output_type": "stream",
     "text": [
      "[(0, 0), (0, 1), (0, 2), (0, 3), (1, 1), (1, 2), (1, 3), (2, 2), (2, 3), (3, 3)]\n"
     ]
    }
   ],
   "source": [
    "#list of tuples\n",
    "list1 = []\n",
    "for x in range(0,4):\n",
    "    for y in range(x,4):\n",
    "        tuple1 = (x,y)\n",
    "        list1.append(tuple1)\n",
    "print(list1)"
   ]
  },
  {
   "cell_type": "code",
   "execution_count": 16,
   "id": "2a9fb92a-b579-4b8b-b8a5-f5f1e0fb7a2f",
   "metadata": {},
   "outputs": [
    {
     "name": "stdout",
     "output_type": "stream",
     "text": [
      "[(0, 0), (0, 1), (0, 2), (0, 3), (1, 1), (1, 2), (1, 3), (2, 2), (2, 3), (3, 3)]\n"
     ]
    }
   ],
   "source": [
    "pairs = [(x,y) for x in range(0,4) for y in range(x,4)]\n",
    "print(pairs)"
   ]
  },
  {
   "cell_type": "code",
   "execution_count": null,
   "id": "286a9c44-ce48-4a1d-8c33-609251e8cf08",
   "metadata": {},
   "outputs": [],
   "source": []
  }
 ],
 "metadata": {
  "kernelspec": {
   "display_name": "Python 3 (ipykernel)",
   "language": "python",
   "name": "python3"
  },
  "language_info": {
   "codemirror_mode": {
    "name": "ipython",
    "version": 3
   },
   "file_extension": ".py",
   "mimetype": "text/x-python",
   "name": "python",
   "nbconvert_exporter": "python",
   "pygments_lexer": "ipython3",
   "version": "3.13.3"
  }
 },
 "nbformat": 4,
 "nbformat_minor": 5
}
