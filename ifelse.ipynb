{
 "cells": [
  {
   "cell_type": "code",
   "execution_count": 6,
   "id": "62e863d1-cc89-4e6f-910a-23474c6ee319",
   "metadata": {},
   "outputs": [
    {
     "name": "stdout",
     "output_type": "stream",
     "text": [
      "my age is 18 or 19\n"
     ]
    }
   ],
   "source": [
    "age = 19\n",
    "if (age == 18 or age == 19):\n",
    "    print('my age is 18 or 19')\n",
    "\n",
    "else:\n",
    "    print('no condition is matched')"
   ]
  },
  {
   "cell_type": "code",
   "execution_count": 20,
   "id": "7788e15c-79b8-4893-9fac-44f027f1a899",
   "metadata": {},
   "outputs": [
    {
     "name": "stdout",
     "output_type": "stream",
     "text": [
      "b is smaller\n"
     ]
    }
   ],
   "source": [
    "a = 10\n",
    "b =2\n",
    "c=50\n",
    "if(a < b and a< c):\n",
    "    print('a is smaller')\n",
    "\n",
    "elif(b < a and b < c):\n",
    "    print('b is smaller')\n",
    "\n",
    "else:\n",
    "    print('c is smaller')"
   ]
  },
  {
   "cell_type": "code",
   "execution_count": 22,
   "id": "55e7f307-a48f-43b5-90cf-450af5db77d7",
   "metadata": {},
   "outputs": [
    {
     "name": "stdout",
     "output_type": "stream",
     "text": [
      "number is not divisible by 2, 3, 6\n"
     ]
    }
   ],
   "source": [
    "num = 19\n",
    "if(num%2==0):\n",
    "    print('number is divided by 2')\n",
    "\n",
    "elif(num%3==0):\n",
    "    print('number is divided by 3')\n",
    "\n",
    "elif(num%6==0):\n",
    "    prin('number is divided by 6')\n",
    "\n",
    "else:\n",
    "    print('number is not divisible by 2, 3, 6')\n",
    "    "
   ]
  },
  {
   "cell_type": "code",
   "execution_count": 28,
   "id": "4d4d4c7c-fe7a-43ee-a528-041a9f654a8d",
   "metadata": {},
   "outputs": [
    {
     "name": "stdout",
     "output_type": "stream",
     "text": [
      "number is divisible by 6\n"
     ]
    }
   ],
   "source": [
    "num = 24\n",
    "if(num%2 == 0 and num%3 == 0):\n",
    "    print('number is divisible by 6')\n",
    "\n",
    "else:\n",
    "    print('number is not divisible by 6 ')"
   ]
  },
  {
   "cell_type": "code",
   "execution_count": 32,
   "id": "33098621-d67d-4204-a095-929c83a3f99d",
   "metadata": {},
   "outputs": [
    {
     "name": "stdout",
     "output_type": "stream",
     "text": [
      "age is mature\n"
     ]
    }
   ],
   "source": [
    "age = 22\n",
    "if(10<age<18):\n",
    "    print('age is greater than 10')\n",
    "\n",
    "elif(18<=age<30):\n",
    "    print('age is mature')\n",
    "\n",
    "elif(30<=age<60):\n",
    "    print('age is young')\n",
    "\n",
    "elif(60<=age<90):\n",
    "    print('age is old')\n",
    "\n",
    "else:\n",
    "    print('enter valid age')"
   ]
  },
  {
   "cell_type": "code",
   "execution_count": null,
   "id": "31f7d347-adb1-4574-8a3a-d145bb5fc219",
   "metadata": {},
   "outputs": [],
   "source": []
  }
 ],
 "metadata": {
  "kernelspec": {
   "display_name": "Python 3 (ipykernel)",
   "language": "python",
   "name": "python3"
  },
  "language_info": {
   "codemirror_mode": {
    "name": "ipython",
    "version": 3
   },
   "file_extension": ".py",
   "mimetype": "text/x-python",
   "name": "python",
   "nbconvert_exporter": "python",
   "pygments_lexer": "ipython3",
   "version": "3.12.7"
  }
 },
 "nbformat": 4,
 "nbformat_minor": 5
}
