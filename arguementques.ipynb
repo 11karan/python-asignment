{
 "cells": [
  {
   "cell_type": "code",
   "execution_count": 3,
   "id": "3d3b2e78-864f-40bd-acfb-4d393de66b6b",
   "metadata": {},
   "outputs": [
    {
     "data": {
      "text/plain": [
       "11"
      ]
     },
     "execution_count": 3,
     "metadata": {},
     "output_type": "execute_result"
    }
   ],
   "source": [
    "# max number using args\n",
    "def task(*args):\n",
    "    new = max(args)\n",
    "    return new\n",
    "task(1,2,3,4,11)"
   ]
  },
  {
   "cell_type": "code",
   "execution_count": 4,
   "id": "aba99242-fbfb-4b07-b158-b518e51fe89f",
   "metadata": {},
   "outputs": [
    {
     "name": "stdout",
     "output_type": "stream",
     "text": [
      "120\n"
     ]
    }
   ],
   "source": [
    "#calculate product of numbers\n",
    "def num(*args):\n",
    "    product = 1\n",
    "    for i in args:\n",
    "        product*=i\n",
    "    return product\n",
    "print(num(1,2,3,4,5))"
   ]
  },
  {
   "cell_type": "code",
   "execution_count": 16,
   "id": "07109e1d-4fcb-4fe4-92e8-0c3f63de7be3",
   "metadata": {},
   "outputs": [
    {
     "name": "stdout",
     "output_type": "stream",
     "text": [
      "karan shekhawat\n"
     ]
    }
   ],
   "source": [
    "#full name\n",
    "def name(**kwargs):\n",
    "    return f'{kwargs.get('first_name','unkown')} {kwargs.get('last_name','shekhawat')}'\n",
    "print(name(first_name = 'karan'))"
   ]
  },
  {
   "cell_type": "code",
   "execution_count": 19,
   "id": "36ab9cb4-038d-47e5-bc53-fb8284d760c6",
   "metadata": {},
   "outputs": [
    {
     "name": "stdout",
     "output_type": "stream",
     "text": [
      "4\n"
     ]
    }
   ],
   "source": [
    "#count vowels\n",
    "def count(string):\n",
    "    vowels = 'aeiouAEIOU'\n",
    "    return sum(1 for i in string if i in vowels)\n",
    "print(count('happy holidays'))"
   ]
  },
  {
   "cell_type": "code",
   "execution_count": null,
   "id": "d814b67e-145d-4dc9-8b08-96e9357dddba",
   "metadata": {},
   "outputs": [],
   "source": []
  }
 ],
 "metadata": {
  "kernelspec": {
   "display_name": "Python 3 (ipykernel)",
   "language": "python",
   "name": "python3"
  },
  "language_info": {
   "codemirror_mode": {
    "name": "ipython",
    "version": 3
   },
   "file_extension": ".py",
   "mimetype": "text/x-python",
   "name": "python",
   "nbconvert_exporter": "python",
   "pygments_lexer": "ipython3",
   "version": "3.13.3"
  }
 },
 "nbformat": 4,
 "nbformat_minor": 5
}
