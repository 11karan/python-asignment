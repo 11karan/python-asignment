{
 "cells": [
  {
   "cell_type": "code",
   "execution_count": null,
   "id": "692a5797-4ccd-40d4-9e35-d9ee2293a0de",
   "metadata": {},
   "outputs": [],
   "source": [
    "#Function Transformer ----->\n",
    "#dataset ---> custom opertion apply ----> "
   ]
  },
  {
   "cell_type": "raw",
   "id": "498bbe9f-32e8-4dbe-928e-f64dc4c19521",
   "metadata": {},
   "source": []
  },
  {
   "cell_type": "code",
   "execution_count": 1,
   "id": "3eaa1be2-c00d-4ba6-ad1c-33ce6a9126e5",
   "metadata": {},
   "outputs": [],
   "source": [
    "import numpy as np \n",
    "import pandas as pd"
   ]
  },
  {
   "cell_type": "code",
   "execution_count": 4,
   "id": "81882453-12f5-4219-90d3-bcd8d5df4658",
   "metadata": {},
   "outputs": [],
   "source": [
    "from sklearn.preprocessing import FunctionTransformer"
   ]
  },
  {
   "cell_type": "code",
   "execution_count": 5,
   "id": "04e7d1c3-f7a0-48d4-89b5-5696f4d338fa",
   "metadata": {},
   "outputs": [
    {
     "name": "stdout",
     "output_type": "stream",
     "text": [
      "[[1 2]\n",
      " [3 4]]\n",
      "[[0.69314718 1.09861229]\n",
      " [1.38629436 1.60943791]]\n"
     ]
    }
   ],
   "source": [
    "# create a dataset\n",
    "X = np.array([[1, 2], [3, 4]])\n",
    "print(X)\n",
    "\n",
    "# define the transformation function\n",
    "log_transform = FunctionTransformer(np.log1p)\n",
    "\n",
    "# apply the transformation to the dataset\n",
    "X_transformed = log_transform.transform(X)\n",
    "\n",
    "# view the transformed data\n",
    "print(X_transformed)"
   ]
  },
  {
   "cell_type": "code",
   "execution_count": 8,
   "id": "d27462a4-58dd-41a7-8710-6029ede118dd",
   "metadata": {},
   "outputs": [
    {
     "name": "stdout",
     "output_type": "stream",
     "text": [
      "[[1 2]\n",
      " [3 4]]\n",
      "[[ 1  2  1  4]\n",
      " [ 3  4  9 16]]\n"
     ]
    }
   ],
   "source": [
    "# create a dataset\n",
    "X = np.array([[1, 2], [3, 4]])\n",
    "print(X)\n",
    "\n",
    "# define a custom feature engineering function\n",
    "def squ(X):\n",
    "    return np.hstack((X, X ** 2))\n",
    "\n",
    "# create a FunctionTransformer to apply the custom function\n",
    "custom_transformer = FunctionTransformer(squ)\n",
    "\n",
    "# apply the transformer to the input data\n",
    "X_transformed = custom_transformer.transform(X)\n",
    "\n",
    "# view the transformed data\n",
    "print(X_transformed)"
   ]
  },
  {
   "cell_type": "code",
   "execution_count": 9,
   "id": "05dbbf05-80f4-4db4-a315-1cdcbccecee2",
   "metadata": {},
   "outputs": [
    {
     "name": "stdout",
     "output_type": "stream",
     "text": [
      "[[0.25 0.5 ]\n",
      " [0.75 1.  ]]\n"
     ]
    }
   ],
   "source": [
    "from sklearn.preprocessing import FunctionTransformer\n",
    "import numpy as np\n",
    "\n",
    "# create a dataset\n",
    "X = np.array([[1, 2], [3, 4]])\n",
    "\n",
    "# define a custom scaling function\n",
    "def my_scaling(X):\n",
    "    return X / np.max(X)\n",
    "\n",
    "# create a FunctionTransformer to apply the custom function\n",
    "custom_transformer = FunctionTransformer(my_scaling)\n",
    "\n",
    "# apply the transformer to the input datal\n",
    "X_transformed = custom_transformer.transform(X)\n",
    "\n",
    "# view the transformed data\n",
    "print(X_transformed)"
   ]
  },
  {
   "cell_type": "code",
   "execution_count": 10,
   "id": "82f15d32-0afe-41a5-b806-1d01e16bf38e",
   "metadata": {},
   "outputs": [],
   "source": [
    "# Pipeline --- > container steps of process but sequentially .\n",
    "\n",
    "# column transformer --- > 1 step output will not the 2 step input\n",
    "# Pipeline ---- > output of 1 step will be input of second step .\n",
    "\n",
    "# Data ---- > x,y ---- > categorical data [] --- > encoding --- > Normal distribution , Numerical data [] -."
   ]
  },
  {
   "cell_type": "code",
   "execution_count": 11,
   "id": "56d8e152-0545-4074-841f-4319ce444b04",
   "metadata": {},
   "outputs": [
    {
     "data": {
      "text/html": [
       "<div>\n",
       "<style scoped>\n",
       "    .dataframe tbody tr th:only-of-type {\n",
       "        vertical-align: middle;\n",
       "    }\n",
       "\n",
       "    .dataframe tbody tr th {\n",
       "        vertical-align: top;\n",
       "    }\n",
       "\n",
       "    .dataframe thead th {\n",
       "        text-align: right;\n",
       "    }\n",
       "</style>\n",
       "<table border=\"1\" class=\"dataframe\">\n",
       "  <thead>\n",
       "    <tr style=\"text-align: right;\">\n",
       "      <th></th>\n",
       "      <th>age</th>\n",
       "      <th>gender</th>\n",
       "      <th>fever</th>\n",
       "      <th>cough</th>\n",
       "      <th>city</th>\n",
       "      <th>has_covid</th>\n",
       "    </tr>\n",
       "  </thead>\n",
       "  <tbody>\n",
       "    <tr>\n",
       "      <th>0</th>\n",
       "      <td>60</td>\n",
       "      <td>Male</td>\n",
       "      <td>103.0</td>\n",
       "      <td>Mild</td>\n",
       "      <td>Kolkata</td>\n",
       "      <td>No</td>\n",
       "    </tr>\n",
       "    <tr>\n",
       "      <th>1</th>\n",
       "      <td>27</td>\n",
       "      <td>Male</td>\n",
       "      <td>100.0</td>\n",
       "      <td>Mild</td>\n",
       "      <td>Delhi</td>\n",
       "      <td>Yes</td>\n",
       "    </tr>\n",
       "  </tbody>\n",
       "</table>\n",
       "</div>"
      ],
      "text/plain": [
       "   age gender  fever cough     city has_covid\n",
       "0   60   Male  103.0  Mild  Kolkata        No\n",
       "1   27   Male  100.0  Mild    Delhi       Yes"
      ]
     },
     "execution_count": 11,
     "metadata": {},
     "output_type": "execute_result"
    }
   ],
   "source": [
    "df = pd.read_csv(\"C:\\\\Users\\\\DELL\\\\Documents\\\\covid_toy.csv\")\n",
    "df.head(2)"
   ]
  },
  {
   "cell_type": "code",
   "execution_count": 13,
   "id": "0b992793-3979-4f26-8e36-4c8855855f0a",
   "metadata": {},
   "outputs": [],
   "source": [
    "from sklearn.compose import ColumnTransformer\n",
    "from sklearn.pipeline import Pipeline\n",
    "from sklearn.impute import SimpleImputer\n",
    "from sklearn.preprocessing import StandardScaler, OneHotEncoder\n",
    "from sklearn.linear_model import LogisticRegression\n",
    "from sklearn.model_selection import train_test_split"
   ]
  },
  {
   "cell_type": "code",
   "execution_count": 14,
   "id": "fdcbb393-6211-4822-b4a6-8214df645f33",
   "metadata": {},
   "outputs": [],
   "source": [
    "X = df.drop(columns = ['has_covid'])\n",
    "y = df['has_covid' ]\n",
    "X_train, X_test, y_train, y_test = train_test_split(X,y, test_size=0.2,\n",
    "                                                    random_state=42)"
   ]
  },
  {
   "cell_type": "code",
   "execution_count": 16,
   "id": "3dd54603-6774-4888-a9e9-6ed2ec7bfd96",
   "metadata": {},
   "outputs": [],
   "source": [
    "# Define the columns that need to be preprocessed\n",
    "categorical_features = ['gender', 'city']\n",
    "numeric_features = ['age', 'fever' ]"
   ]
  },
  {
   "cell_type": "code",
   "execution_count": 17,
   "id": "6bf894fd-ca9c-40c0-9afc-6f802635df50",
   "metadata": {},
   "outputs": [],
   "source": [
    "# Create transformers\n",
    "numeric_transformer = Pipeline(steps=[\n",
    "    ('imputer', SimpleImputer(strategy='mean')),\n",
    "    ('scaler', StandardScaler())])\n",
    "\n",
    "categorical_transformer = Pipeline(steps=[\n",
    "('imputer', SimpleImputer(strategy='most_frequent')),\n",
    "('onehot', OneHotEncoder(handle_unknown='ignore'))\n",
    "\n",
    "])\n",
    "\n",
    "# Combine transformers\n",
    "preprocessor = ColumnTransformer(\n",
    "transformers=[\n",
    "('num', numeric_transformer, numeric_features),\n",
    "('cat', categorical_transformer, categorical_features)])"
   ]
  },
  {
   "cell_type": "code",
   "execution_count": 18,
   "id": "bd622b69-f222-4df3-9e9a-a860a0ba9e87",
   "metadata": {},
   "outputs": [],
   "source": [
    "# Create the pipeline\n",
    "clf = Pipeline(steps=[('preprocessor', preprocessor),\n",
    "                     ('classifier', LogisticRegression())])\n",
    "#Create the pipeline\n",
    "clf.fit(X_train, y_train)\n",
    "\n",
    "# Evaluate the model\n",
    "y_pred = clf.predict(X_test)\n",
    "\n",
    "# Train the model\n",
    "y_pred = clf.predict(X_test)"
   ]
  },
  {
   "cell_type": "code",
   "execution_count": 19,
   "id": "971e8927-04fe-4b9e-ab0b-69fc8f133975",
   "metadata": {},
   "outputs": [],
   "source": [
    "from sklearn.metrics import accuracy_score"
   ]
  },
  {
   "cell_type": "code",
   "execution_count": null,
   "id": "4acadb7c-918b-4f6d-9ba8-d07c5d3a56f6",
   "metadata": {},
   "outputs": [],
   "source": [
    "accuracy"
   ]
  }
 ],
 "metadata": {
  "kernelspec": {
   "display_name": "Python 3 (ipykernel)",
   "language": "python",
   "name": "python3"
  },
  "language_info": {
   "codemirror_mode": {
    "name": "ipython",
    "version": 3
   },
   "file_extension": ".py",
   "mimetype": "text/x-python",
   "name": "python",
   "nbconvert_exporter": "python",
   "pygments_lexer": "ipython3",
   "version": "3.13.3"
  }
 },
 "nbformat": 4,
 "nbformat_minor": 5
}
