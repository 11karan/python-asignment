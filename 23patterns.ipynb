{
 "cells": [
  {
   "cell_type": "code",
   "execution_count": 5,
   "id": "3036ca4c-8c40-4ec3-a45d-5f99052fa526",
   "metadata": {},
   "outputs": [
    {
     "name": "stdout",
     "output_type": "stream",
     "text": [
      "        1  \n",
      "      1 2  \n",
      "    1 2 3  \n",
      "  1 2 3 4  \n",
      "1 2 3 4 5  \n"
     ]
    }
   ],
   "source": [
    "for i in range(6,1,-1):\n",
    "    x = 1\n",
    "    for j in range(1,i-1):\n",
    "        print(' ',end = ' ')\n",
    "    for k in range(1,8-i):\n",
    "        print(x,end = ' ')\n",
    "        x+=1\n",
    "    print(' ')\n",
    "       "
   ]
  },
  {
   "cell_type": "code",
   "execution_count": 12,
   "id": "406fc3e2-7ca2-4ae4-9c2c-78d2c84e9171",
   "metadata": {},
   "outputs": [
    {
     "name": "stdout",
     "output_type": "stream",
     "text": [
      "1 2 3 4 5  \n",
      "  1 2 3 4  \n",
      "    1 2 3  \n",
      "      1 2  \n",
      "        1  \n"
     ]
    }
   ],
   "source": [
    "for i in range(1,6):\n",
    "    x = 1\n",
    "    for j in range(1,i):\n",
    "        print(' ',end = ' ')\n",
    "    for k in range(0,6-i):\n",
    "        print(x,end = ' ')\n",
    "        x+=1\n",
    "    print(' ')"
   ]
  },
  {
   "cell_type": "code",
   "execution_count": 13,
   "id": "dc9aaf8d-1499-485b-b583-0c884ca56d5e",
   "metadata": {},
   "outputs": [
    {
     "name": "stdout",
     "output_type": "stream",
     "text": [
      "A B C D E  \n",
      "  A B C D  \n",
      "    A B C  \n",
      "      A B  \n",
      "        A  \n"
     ]
    }
   ],
   "source": [
    "for i in range(1,6):\n",
    "    x = 65\n",
    "    for j in range(1,i):\n",
    "        print(' ',end = ' ')\n",
    "    for k in range(0,6-i):\n",
    "        print(chr(x),end = ' ')\n",
    "        x+=1\n",
    "    print(' ')"
   ]
  },
  {
   "cell_type": "code",
   "execution_count": 15,
   "id": "e43b19db-7b47-43c9-9ece-dd0dbe682093",
   "metadata": {},
   "outputs": [
    {
     "name": "stdout",
     "output_type": "stream",
     "text": [
      "        1 2 3 4 5  \n",
      "      1 2 3 4 5  \n",
      "    1 2 3 4 5  \n",
      "  1 2 3 4 5  \n",
      "1 2 3 4 5  \n"
     ]
    }
   ],
   "source": [
    "for i in range(6,1,-1):\n",
    "    x = 1\n",
    "    for j in range(1,i-1):\n",
    "        print(' ',end = ' ')\n",
    "    for k in range(1,6):\n",
    "        print(x,end = ' ')\n",
    "        x+=1\n",
    "    print(' ')"
   ]
  },
  {
   "cell_type": "code",
   "execution_count": 16,
   "id": "11049eb8-8542-4cb5-ab94-d6ab2934e11d",
   "metadata": {},
   "outputs": [
    {
     "name": "stdout",
     "output_type": "stream",
     "text": [
      "        A B C D E  \n",
      "      A B C D E  \n",
      "    A B C D E  \n",
      "  A B C D E  \n",
      "A B C D E  \n"
     ]
    }
   ],
   "source": [
    "for i in range(6,1,-1):\n",
    "    x = 65\n",
    "    for j in range(1,i-1):\n",
    "        print(' ',end = ' ')\n",
    "    for k in range(1,6):\n",
    "        print(chr(x),end = ' ')\n",
    "        x+=1\n",
    "    print(' ')"
   ]
  },
  {
   "cell_type": "code",
   "execution_count": 17,
   "id": "52ab8d96-23fa-46a3-860a-33aaa580f951",
   "metadata": {},
   "outputs": [
    {
     "name": "stdout",
     "output_type": "stream",
     "text": [
      "        * * * * *  \n",
      "      * * * * *  \n",
      "    * * * * *  \n",
      "  * * * * *  \n",
      "* * * * *  \n"
     ]
    }
   ],
   "source": [
    "for i in range(6,1,-1):\n",
    "    for j in range(1,i-1):\n",
    "        print(' ',end = ' ')\n",
    "    for k in range(1,6):\n",
    "        print('*',end = ' ')\n",
    "        x+=1\n",
    "    print(' ')"
   ]
  },
  {
   "cell_type": "code",
   "execution_count": 24,
   "id": "7a71cdd5-c05a-4ec3-a476-287cc17ab8f4",
   "metadata": {},
   "outputs": [
    {
     "name": "stdout",
     "output_type": "stream",
     "text": [
      "        *   \n",
      "      *  *   \n",
      "    *  *  *   \n",
      "  *  *  *  *   \n",
      "*  *  *  *  *   \n"
     ]
    }
   ],
   "source": [
    "#using extra space in print....\n",
    "for i in range(6,1,-1):\n",
    "    x = 1\n",
    "    for j in range(1,i-1):\n",
    "        print(' ',end = ' ')\n",
    "    for k in range(1,8-i):\n",
    "        print('* ',end = ' ')\n",
    "        x+=1\n",
    "    print(' ')"
   ]
  },
  {
   "cell_type": "code",
   "execution_count": 27,
   "id": "976cdb1d-41c7-44cc-998c-533d15e2e15a",
   "metadata": {},
   "outputs": [
    {
     "name": "stdout",
     "output_type": "stream",
     "text": [
      "      *  \n",
      "    * * *  \n",
      "  * * * * *  \n",
      "* * * * * * *  \n"
     ]
    }
   ],
   "source": [
    "for i in range(5,1,-1):\n",
    "    x = 1\n",
    "    for j in range(1,i-1):\n",
    "        print(' ',end = ' ')\n",
    "    for k in range(1,7-i):\n",
    "        print('*',end = ' ')\n",
    "        x+=1\n",
    "    for h in range(2,7-i):\n",
    "        print('*',end = ' ')\n",
    "    print(' ')"
   ]
  },
  {
   "cell_type": "code",
   "execution_count": 41,
   "id": "171439d4-f487-4a70-8646-3af45d09aa21",
   "metadata": {},
   "outputs": [
    {
     "name": "stdout",
     "output_type": "stream",
     "text": [
      "      *  \n",
      "    *   *  \n",
      "  *       *  \n",
      "* * * * * * *  \n"
     ]
    }
   ],
   "source": [
    "for i in range(5,1,-1):\n",
    "    for j in range(1,i-1):\n",
    "        print(' ',end = ' ')\n",
    "    for k in range(1,7-i):\n",
    "        if(k == 1 or i == 2 ):\n",
    "            print('*',end = ' ')\n",
    "        else:\n",
    "            print(' ',end =\" \")\n",
    "    for h in range(2,7-i):\n",
    "        if( i == 2 or h == k):\n",
    "            print('*',end = ' ')\n",
    "        else:\n",
    "            print(' ',end =\" \")\n",
    "    print(' ')"
   ]
  },
  {
   "cell_type": "code",
   "execution_count": 43,
   "id": "d2c3b802-3049-485d-b33a-8e445eff356e",
   "metadata": {},
   "outputs": [
    {
     "name": "stdout",
     "output_type": "stream",
     "text": [
      "* * * * * * *  \n",
      "  * * * * *  \n",
      "    * * *  \n",
      "      *  \n"
     ]
    }
   ],
   "source": [
    "for i in range (1,5):\n",
    "    for j in range (1,i):\n",
    "        print(' ', end= ' ')\n",
    "    for k in range (1,6-i):\n",
    "        print('*',end = ' ')\n",
    "    for s in range (1, 5-i):\n",
    "        print('*',end = ' ')\n",
    "    print(' ')"
   ]
  },
  {
   "cell_type": "code",
   "execution_count": 56,
   "id": "6ec7446c-d5ec-4c0d-8007-89daf93fa8ec",
   "metadata": {},
   "outputs": [
    {
     "name": "stdout",
     "output_type": "stream",
     "text": [
      "*  \n",
      "* *  \n",
      "* * *  \n",
      "* * * *  \n",
      "* * *  \n",
      "* *  \n",
      "*  \n"
     ]
    }
   ],
   "source": [
    "for i in range (1,5):\n",
    "    for j in range (1,i+1):\n",
    "        print('*', end= ' ')\n",
    "    print(' ')\n",
    "for k in range (4,1,-1):\n",
    "    for s in range (1,k):\n",
    "        print('*',end = ' ')\n",
    "    print(' ')\n",
    "        \n",
    "    "
   ]
  },
  {
   "cell_type": "code",
   "execution_count": 57,
   "id": "e7465027-239e-4a1b-9ebb-10fe2e219a69",
   "metadata": {},
   "outputs": [
    {
     "name": "stdout",
     "output_type": "stream",
     "text": [
      "      *  \n",
      "    * * *  \n",
      "  * * * * *  \n",
      "* * * * * * *  \n",
      "* * * * * * *  \n",
      "  * * * * *  \n",
      "    * * *  \n",
      "      *  \n"
     ]
    }
   ],
   "source": [
    "for i in range(5,1,-1):\n",
    "    for j in range(1,i-1):\n",
    "        print(' ',end = ' ')\n",
    "    for k in range(1,7-i):\n",
    "        print('*',end = ' ')\n",
    "    for h in range(2,7-i):\n",
    "        print('*',end = ' ')\n",
    "    print(' ')\n",
    "for s in range (1,5):\n",
    "    for w in range (1,s):\n",
    "        print(' ', end= ' ')\n",
    "    for e in range (1,6-s):\n",
    "        print('*',end = ' ')\n",
    "    for b in range (1, 5-s):\n",
    "        print('*',end = ' ')\n",
    "    print(' ')"
   ]
  },
  {
   "cell_type": "code",
   "execution_count": 59,
   "id": "e15923e7-8182-4632-845a-4f9744d96fb3",
   "metadata": {},
   "outputs": [
    {
     "name": "stdout",
     "output_type": "stream",
     "text": [
      "1  \n",
      "1 2  \n",
      "1 2 3  \n",
      "1 2 3 4  \n",
      "1 2 3 4 5  \n"
     ]
    }
   ],
   "source": [
    "for i in range (1,6):\n",
    "    a = 1\n",
    "    for j in range (1,i+1):\n",
    "        print(a,end = ' ')\n",
    "        a+=1\n",
    "    print(' ')"
   ]
  },
  {
   "cell_type": "code",
   "execution_count": 60,
   "id": "4d10110b-cd40-47cb-97f7-fad776a1e175",
   "metadata": {},
   "outputs": [
    {
     "name": "stdout",
     "output_type": "stream",
     "text": [
      "1 2 3 4 5  \n",
      "1 2 3 4  \n",
      "1 2 3  \n",
      "1 2  \n",
      "1  \n"
     ]
    }
   ],
   "source": [
    "for i in range (6,1,-1):\n",
    "    a = 1\n",
    "    for j in range (1,i):\n",
    "        print(a,end = ' ')\n",
    "        a+=1\n",
    "    print(' ')"
   ]
  },
  {
   "cell_type": "code",
   "execution_count": 61,
   "id": "6078b1f3-d398-454c-93a3-84ef245f9f68",
   "metadata": {},
   "outputs": [
    {
     "name": "stdout",
     "output_type": "stream",
     "text": [
      "1  \n",
      "1 2  \n",
      "1   3  \n",
      "1     4  \n",
      "1 2 3 4 5  \n"
     ]
    }
   ],
   "source": [
    "for i in range (1,6):\n",
    "    a = 1\n",
    "    for j in range (1,i+1):\n",
    "        if(j == 1 or i == j or i == 5):\n",
    "            print(a,end = ' ')\n",
    "        else:\n",
    "            print(' ',end= ' ')\n",
    "        a+=1\n",
    "    print(' ')"
   ]
  },
  {
   "cell_type": "code",
   "execution_count": 78,
   "id": "c397561e-2e2e-46ca-ae63-8881a6f026b1",
   "metadata": {},
   "outputs": [
    {
     "name": "stdout",
     "output_type": "stream",
     "text": [
      "        1  \n",
      "      2 3 3  \n",
      "    3 4 5 3 3  \n",
      "  4 6 7 8 3 3 3  \n",
      "5 9 10 11 12 3 3 3 3  \n"
     ]
    }
   ],
   "source": [
    "x = 1\n",
    "y = 3\n",
    "a =x+2\n",
    "for i in range(6,1,-1):\n",
    "    for j in range(1,i-1):\n",
    "        print(' ',end = ' ')\n",
    "    for k in range(1,8-i):\n",
    "        if(k == 1  ):\n",
    "            print(x,end = ' ')\n",
    "            x+=1\n",
    "        else:\n",
    "            print(a,end = ' ')\n",
    "            a+=1\n",
    "    for h in range(2,8-i):\n",
    "        print(y,end = ' ')\n",
    "    print(' ')"
   ]
  },
  {
   "cell_type": "code",
   "execution_count": 86,
   "id": "ba9a9296-07bc-4c93-bfb0-53310dcd21f8",
   "metadata": {},
   "outputs": [
    {
     "name": "stdout",
     "output_type": "stream",
     "text": [
      "        1   \n",
      "      1  2   \n",
      "    1  2  3   \n",
      "  1  2  3  4   \n",
      "1  2  3  4  5   \n"
     ]
    }
   ],
   "source": [
    "for i in range(6,1,-1):\n",
    "    x = 1\n",
    "    for j in range(1,i-1):\n",
    "        print(' ',end = ' ')\n",
    "    for k in range(1,8-i):\n",
    "        print(f'{x} ',end = ' ')\n",
    "        x+=1\n",
    "    print(' ')"
   ]
  },
  {
   "cell_type": "code",
   "execution_count": null,
   "id": "7332ef6b-4fc8-4d6f-a5b2-f8da2deae80b",
   "metadata": {},
   "outputs": [],
   "source": []
  }
 ],
 "metadata": {
  "kernelspec": {
   "display_name": "Python 3 (ipykernel)",
   "language": "python",
   "name": "python3"
  },
  "language_info": {
   "codemirror_mode": {
    "name": "ipython",
    "version": 3
   },
   "file_extension": ".py",
   "mimetype": "text/x-python",
   "name": "python",
   "nbconvert_exporter": "python",
   "pygments_lexer": "ipython3",
   "version": "3.13.3"
  }
 },
 "nbformat": 4,
 "nbformat_minor": 5
}
