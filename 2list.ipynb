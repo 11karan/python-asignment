{
 "cells": [
  {
   "cell_type": "code",
   "execution_count": 2,
   "id": "597e5248-03d7-4f9e-a7b5-959f7713adfa",
   "metadata": {},
   "outputs": [
    {
     "name": "stdout",
     "output_type": "stream",
     "text": [
      "99\n"
     ]
    }
   ],
   "source": [
    "a = [10,20,4,45,99]\n",
    "max= 0\n",
    "for i in range(0 , len(a)):\n",
    "    if(a[i]>max):\n",
    "        max = a[i]\n",
    "print(max)"
   ]
  },
  {
   "cell_type": "code",
   "execution_count": 4,
   "id": "93c04dc8-f719-4d46-b1ff-2292cd8eedc9",
   "metadata": {},
   "outputs": [
    {
     "name": "stdout",
     "output_type": "stream",
     "text": [
      "100\n"
     ]
    }
   ],
   "source": [
    "a = [10,20,30,40]\n",
    "sum = 0\n",
    "for i in range(0,len(a)):\n",
    "    sum+=a[i]\n",
    "print(sum)"
   ]
  },
  {
   "cell_type": "code",
   "execution_count": 7,
   "id": "1ac529c8-242a-4d0d-ad06-a8e561d93acf",
   "metadata": {},
   "outputs": [
    {
     "name": "stdout",
     "output_type": "stream",
     "text": [
      "[5, 4, 3, 2, 1]\n"
     ]
    }
   ],
   "source": [
    "num = [1,2,3,4,5] \n",
    "i = 0\n",
    "end = len(num)-1\n",
    "while(i<end): \n",
    "    num[i],num[end] = num[end],num[i]\n",
    "    i+=1\n",
    "    end-=1 \n",
    "print(num)"
   ]
  },
  {
   "cell_type": "code",
   "execution_count": 1,
   "id": "c8b88735-1fd0-40be-a8ce-abf83c1beb37",
   "metadata": {},
   "outputs": [
    {
     "name": "stdout",
     "output_type": "stream",
     "text": [
      "[1, 2, 3, 4, 5, 6]\n"
     ]
    }
   ],
   "source": [
    "num = [1,3,5,2,4,6] \n",
    "i = 0\n",
    "while(i<len(num)):\n",
    "    end = i+1\n",
    "    while(end<len(num)):\n",
    "        if(num[i] > num[end]):\n",
    "            num[i],num[end] = num[end],num[i]\n",
    "        \n",
    "        end+=1\n",
    "    i+=1\n",
    "print(num)"
   ]
  },
  {
   "cell_type": "code",
   "execution_count": 5,
   "id": "4db50497-d303-44d8-a1a8-2bfe116edfe5",
   "metadata": {},
   "outputs": [
    {
     "name": "stdout",
     "output_type": "stream",
     "text": [
      "[1, 2, 3, 4, 5]\n"
     ]
    }
   ],
   "source": [
    "a =[1,2,2,3,4,4,5]\n",
    "i = 0\n",
    "while(i<len(a)):\n",
    "    if(a[i]in a[0:i]):\n",
    "        a.pop(a[i])\n",
    "    i+=1\n",
    "print(a)"
   ]
  },
  {
   "cell_type": "code",
   "execution_count": 6,
   "id": "ba3d2f5f-b9f0-4a72-a9f9-c6873d678a6e",
   "metadata": {},
   "outputs": [
    {
     "name": "stdout",
     "output_type": "stream",
     "text": [
      "1 5\n",
      "3 3\n"
     ]
    }
   ],
   "source": [
    "num = [1,2,3,4,3,5,6] \n",
    "i = 0\n",
    "end = len(num)-1\n",
    "while(i<end): \n",
    "    if(num[i]+ num[end]<6):\n",
    "        i+=1\n",
    "    elif(num[i]+num[end]>6):\n",
    "        end-=1\n",
    "    else:\n",
    "        print(num[i],num[end])\n",
    "        i+=1\n",
    "        end-=1\n",
    "        "
   ]
  },
  {
   "cell_type": "code",
   "execution_count": null,
   "id": "177260a2-e8c9-4fae-98e5-b3f3d2c890f3",
   "metadata": {},
   "outputs": [],
   "source": []
  }
 ],
 "metadata": {
  "kernelspec": {
   "display_name": "Python 3 (ipykernel)",
   "language": "python",
   "name": "python3"
  },
  "language_info": {
   "codemirror_mode": {
    "name": "ipython",
    "version": 3
   },
   "file_extension": ".py",
   "mimetype": "text/x-python",
   "name": "python",
   "nbconvert_exporter": "python",
   "pygments_lexer": "ipython3",
   "version": "3.13.3"
  }
 },
 "nbformat": 4,
 "nbformat_minor": 5
}
