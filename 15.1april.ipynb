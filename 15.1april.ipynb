{
 "cells": [
  {
   "cell_type": "code",
   "execution_count": 5,
   "id": "28abf8de-b3b3-43cb-800a-22dc65e2a466",
   "metadata": {},
   "outputs": [
    {
     "name": "stdin",
     "output_type": "stream",
     "text": [
      "enter the number 11\n"
     ]
    },
    {
     "name": "stdout",
     "output_type": "stream",
     "text": [
      "1\n",
      "2\n",
      "3\n",
      "4\n",
      "5\n",
      "6\n",
      "7\n",
      "8\n",
      "9\n",
      "10\n",
      "11\n"
     ]
    }
   ],
   "source": [
    "i = 1\n",
    "n = int(input('enter the number'))\n",
    "while(i <=n):\n",
    "    print(i)\n",
    "    i+=1"
   ]
  },
  {
   "cell_type": "code",
   "execution_count": 7,
   "id": "cca7983b-6ceb-435c-91bf-5cbde279cb73",
   "metadata": {},
   "outputs": [
    {
     "name": "stdin",
     "output_type": "stream",
     "text": [
      "enter the number 11\n"
     ]
    },
    {
     "name": "stdout",
     "output_type": "stream",
     "text": [
      "11\n",
      "10\n",
      "9\n",
      "8\n",
      "7\n",
      "6\n",
      "5\n",
      "4\n",
      "3\n",
      "2\n",
      "1\n"
     ]
    }
   ],
   "source": [
    "n = int(input('enter the number'))\n",
    "while(n>=1):\n",
    "    print(n)\n",
    "    n-=1"
   ]
  },
  {
   "cell_type": "code",
   "execution_count": 1,
   "id": "aa16f252-5f30-4d88-b2f0-af52b0afba1f",
   "metadata": {},
   "outputs": [
    {
     "name": "stdout",
     "output_type": "stream",
     "text": [
      "a\n",
      "b\n",
      "c\n",
      "d\n",
      "e\n",
      "f\n",
      "g\n",
      "h\n",
      "i\n",
      "j\n",
      "k\n",
      "l\n",
      "m\n",
      "n\n",
      "o\n",
      "p\n",
      "q\n",
      "r\n",
      "s\n",
      "t\n",
      "u\n",
      "v\n",
      "w\n",
      "x\n",
      "y\n",
      "z\n"
     ]
    }
   ],
   "source": [
    "i = 97\n",
    "while(i<=122):\n",
    "    print(chr(i))\n",
    "    i+=1"
   ]
  },
  {
   "cell_type": "code",
   "execution_count": 2,
   "id": "d516ec18-1c35-4b9b-8264-bfdebb30d434",
   "metadata": {},
   "outputs": [
    {
     "name": "stdout",
     "output_type": "stream",
     "text": [
      "2\n",
      "4\n",
      "6\n",
      "8\n",
      "10\n",
      "12\n",
      "14\n",
      "16\n",
      "18\n",
      "20\n",
      "22\n",
      "24\n",
      "26\n",
      "28\n",
      "30\n",
      "32\n",
      "34\n",
      "36\n",
      "38\n",
      "40\n",
      "42\n",
      "44\n",
      "46\n",
      "48\n",
      "50\n",
      "52\n",
      "54\n",
      "56\n",
      "58\n",
      "60\n",
      "62\n",
      "64\n",
      "66\n",
      "68\n",
      "70\n",
      "72\n",
      "74\n",
      "76\n",
      "78\n",
      "80\n",
      "82\n",
      "84\n",
      "86\n",
      "88\n",
      "90\n",
      "92\n",
      "94\n",
      "96\n",
      "98\n",
      "100\n"
     ]
    }
   ],
   "source": [
    "i = 1\n",
    "while(i <=100):\n",
    "    if(i%2 ==0):\n",
    "        print(i)\n",
    "    i+=1"
   ]
  },
  {
   "cell_type": "code",
   "execution_count": 6,
   "id": "f7d19080-c3a9-4617-84b1-30354b9ded0d",
   "metadata": {},
   "outputs": [
    {
     "name": "stdin",
     "output_type": "stream",
     "text": [
      "enter the number 12\n"
     ]
    },
    {
     "name": "stdout",
     "output_type": "stream",
     "text": [
      "36\n"
     ]
    }
   ],
   "source": [
    "i = 1\n",
    "n = int(input('enter the number'))\n",
    "sum = 0\n",
    "while(i <=n):\n",
    "    if(i%2 !=0):\n",
    "        sum+=i\n",
    "    i+=1\n",
    "print(sum)"
   ]
  },
  {
   "cell_type": "code",
   "execution_count": 11,
   "id": "870ba376-6e20-4f03-a883-68d3dfb5d179",
   "metadata": {},
   "outputs": [
    {
     "name": "stdin",
     "output_type": "stream",
     "text": [
      "enter the number 123467\n"
     ]
    },
    {
     "name": "stdout",
     "output_type": "stream",
     "text": [
      "the number of digits is 6\n"
     ]
    }
   ],
   "source": [
    "# i = 1\n",
    "n = int(input('enter the number'))\n",
    "count = 0\n",
    "while(n>0):\n",
    "    n//=10\n",
    "    count+=1\n",
    "print('the number of digits is',count)"
   ]
  },
  {
   "cell_type": "code",
   "execution_count": 12,
   "id": "2386b09a-3782-48e1-80e3-aeb7ff0173ba",
   "metadata": {},
   "outputs": [
    {
     "name": "stdin",
     "output_type": "stream",
     "text": [
      "enter the number 128976\n"
     ]
    },
    {
     "name": "stdout",
     "output_type": "stream",
     "text": [
      "the sum of all digit is  33\n"
     ]
    }
   ],
   "source": [
    "n = int(input('enter the number'))\n",
    "sum = 0\n",
    "while(n>0):\n",
    "    m = n%10\n",
    "    n//=10\n",
    "    sum+=m\n",
    "print('the sum of all digit is ',sum)"
   ]
  },
  {
   "cell_type": "code",
   "execution_count": 17,
   "id": "b5ba70c2-f816-424d-9995-cb4326ac29e2",
   "metadata": {},
   "outputs": [
    {
     "name": "stdin",
     "output_type": "stream",
     "text": [
      "enter the number 1234\n"
     ]
    },
    {
     "name": "stdout",
     "output_type": "stream",
     "text": [
      "the first and last digit of the number is 1 4\n"
     ]
    }
   ],
   "source": [
    "n = int(input('enter the number'))\n",
    "count = 0\n",
    "m = n\n",
    "while(m>0):\n",
    "    m//=10\n",
    "    count+=1\n",
    "x = n%10\n",
    "y = n//(10**(count-1))\n",
    "print('the first and last digit of the number is',y,x)"
   ]
  },
  {
   "cell_type": "code",
   "execution_count": 18,
   "id": "1893a296-4a2e-43bf-a0b4-b65c153ec786",
   "metadata": {},
   "outputs": [
    {
     "name": "stdin",
     "output_type": "stream",
     "text": [
      "enter the number 234112\n"
     ]
    },
    {
     "name": "stdout",
     "output_type": "stream",
     "text": [
      "the first and last digit sum is 4\n"
     ]
    }
   ],
   "source": [
    "n = int(input('enter the number'))\n",
    "count = 0\n",
    "m = n\n",
    "while(m>0):\n",
    "    m//=10\n",
    "    count+=1\n",
    "x = n%10\n",
    "y = n//(10**(count-1))\n",
    "print('the first and last digit sum is',x+y)"
   ]
  },
  {
   "cell_type": "code",
   "execution_count": 19,
   "id": "65ee3486-c392-48b8-bcfc-b20286d221c6",
   "metadata": {},
   "outputs": [
    {
     "name": "stdin",
     "output_type": "stream",
     "text": [
      "enter the number 12345\n"
     ]
    },
    {
     "name": "stdout",
     "output_type": "stream",
     "text": [
      "the reverse of the number is 54321\n"
     ]
    }
   ],
   "source": [
    "n = int(input('enter the number'))\n",
    "sum = 0\n",
    "while(n>0):\n",
    "    z = n%10\n",
    "    n//=10\n",
    "    sum=sum*10+z\n",
    "print('the reverse of the number is',sum)"
   ]
  },
  {
   "cell_type": "code",
   "execution_count": 21,
   "id": "286f50c1-b306-4366-acd6-b7e9fcaa3ded",
   "metadata": {},
   "outputs": [
    {
     "name": "stdin",
     "output_type": "stream",
     "text": [
      "enter the base 2\n",
      "enter the exponent 10\n"
     ]
    },
    {
     "name": "stdout",
     "output_type": "stream",
     "text": [
      "2 power 10 is:1024\n"
     ]
    }
   ],
   "source": [
    "n = int(input('enter the base'))\n",
    "m = int(input('enter the exponent'))\n",
    "power = 1\n",
    "i= 1\n",
    "while(i<=m):\n",
    "    power*=n\n",
    "    i+=1\n",
    "print(f'{n} power {m} is:{power}')"
   ]
  },
  {
   "cell_type": "code",
   "execution_count": 3,
   "id": "823dc67c-f68e-4dc2-aac4-57068b913a63",
   "metadata": {},
   "outputs": [
    {
     "name": "stdin",
     "output_type": "stream",
     "text": [
      "enter the base 20\n"
     ]
    },
    {
     "name": "stdout",
     "output_type": "stream",
     "text": [
      "1 is an factor of 20\n",
      "2 is an factor of 20\n",
      "4 is an factor of 20\n",
      "5 is an factor of 20\n",
      "10 is an factor of 20\n",
      "20 is an factor of 20\n"
     ]
    }
   ],
   "source": [
    "n = int(input('enter the base'))\n",
    "i =1\n",
    "while(i<=n):\n",
    "    if(n%i==0):\n",
    "        print(f'{i} is an factor of {n}')\n",
    "    i+=1"
   ]
  },
  {
   "cell_type": "code",
   "execution_count": 5,
   "id": "92cf52b4-8cc7-4be9-b2a2-54d90d77c074",
   "metadata": {},
   "outputs": [
    {
     "name": "stdin",
     "output_type": "stream",
     "text": [
      "enter the base 5\n"
     ]
    },
    {
     "name": "stdout",
     "output_type": "stream",
     "text": [
      "factoiral of 5 is 120\n"
     ]
    }
   ],
   "source": [
    "n = int(input('enter the base'))\n",
    "m = n\n",
    "factorial = 1\n",
    "while(n>0):\n",
    "    factorial*=n\n",
    "    n-=1\n",
    "print(f'factoiral of {m} is {factorial}')"
   ]
  },
  {
   "cell_type": "code",
   "execution_count": null,
   "id": "377da433-8241-4c96-9892-885176c412b3",
   "metadata": {},
   "outputs": [],
   "source": []
  }
 ],
 "metadata": {
  "kernelspec": {
   "display_name": "Python 3 (ipykernel)",
   "language": "python",
   "name": "python3"
  },
  "language_info": {
   "codemirror_mode": {
    "name": "ipython",
    "version": 3
   },
   "file_extension": ".py",
   "mimetype": "text/x-python",
   "name": "python",
   "nbconvert_exporter": "python",
   "pygments_lexer": "ipython3",
   "version": "3.13.3"
  }
 },
 "nbformat": 4,
 "nbformat_minor": 5
}
