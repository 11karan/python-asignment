{
 "cells": [
  {
   "cell_type": "code",
   "execution_count": 6,
   "id": "daf67357-bb83-4083-8638-e55a80a8a164",
   "metadata": {},
   "outputs": [
    {
     "name": "stdin",
     "output_type": "stream",
     "text": [
      "enter number  153\n"
     ]
    },
    {
     "name": "stdout",
     "output_type": "stream",
     "text": [
      "the 153 is an armstrong number\n"
     ]
    }
   ],
   "source": [
    "n = int(input('enter number '))\n",
    "i = 1\n",
    "m = n\n",
    "c = n\n",
    "count =0\n",
    "sum = 0\n",
    "while(m>0):\n",
    "    m //=10\n",
    "    count+=1\n",
    "while(i<=count):\n",
    "    d = c%10\n",
    "    c//=10\n",
    "    sum = sum + d**count\n",
    "    i+=1\n",
    "if(sum ==n):\n",
    "    print(f'the {n} is an armstrong number')\n",
    "else:\n",
    "    print('it is not an armstrong number')"
   ]
  },
  {
   "cell_type": "code",
   "execution_count": 8,
   "id": "bab57ac3-4858-48b1-b388-5eee60a3d0a5",
   "metadata": {},
   "outputs": [
    {
     "name": "stdin",
     "output_type": "stream",
     "text": [
      "enter number  145\n"
     ]
    },
    {
     "name": "stdout",
     "output_type": "stream",
     "text": [
      "the 145 is an strong number\n"
     ]
    }
   ],
   "source": [
    "n = int(input('enter number '))\n",
    "i = 1\n",
    "m = n\n",
    "c = n\n",
    "count =0\n",
    "sum = 0\n",
    "while(m>0):\n",
    "    m //=10\n",
    "    count+=1\n",
    "    \n",
    "while(i<=count):\n",
    "    d = c%10\n",
    "    j=1\n",
    "    w=1\n",
    "    while(j<=d):\n",
    "        w*=j\n",
    "        j+=1\n",
    "    sum = sum + w\n",
    "    i+=1\n",
    "    c//=10\n",
    "if(sum == n):\n",
    "    print(f'the {n} is an strong number')\n",
    "else:\n",
    "    print('it is not an strong number')\n",
    "    "
   ]
  },
  {
   "cell_type": "code",
   "execution_count": 12,
   "id": "f2420424-8fd8-4ad1-b3c8-0c143baae65b",
   "metadata": {},
   "outputs": [
    {
     "name": "stdin",
     "output_type": "stream",
     "text": [
      "enter an number 6\n"
     ]
    },
    {
     "name": "stdout",
     "output_type": "stream",
     "text": [
      "the number 6 is an perfect number\n"
     ]
    }
   ],
   "source": [
    "n = int(input('enter an number'))\n",
    "i = 1\n",
    "sum = 0\n",
    "while(i<n):\n",
    "    if(n%i == 0):\n",
    "        sum+=i\n",
    "    i+=1\n",
    "if(sum == n):\n",
    "    print(f'the number {n} is an perfect number')\n",
    "else:\n",
    "    print('it is  not an perfect number')\n"
   ]
  },
  {
   "cell_type": "code",
   "execution_count": 21,
   "id": "f26e7751-519a-4d73-81bf-a6ef0de499a5",
   "metadata": {},
   "outputs": [
    {
     "name": "stdin",
     "output_type": "stream",
     "text": [
      "enter the  number  9\n"
     ]
    },
    {
     "name": "stdout",
     "output_type": "stream",
     "text": [
      "the fibonacci series for the 1 is  0\n",
      "the fibonacci series for the 2 is  1\n",
      "the fibonacci series for the 3 is  1\n",
      "the fibonacci series for the 4 is  2\n",
      "the fibonacci series for the 5 is  3\n",
      "the fibonacci series for the 6 is  5\n",
      "the fibonacci series for the 7 is  8\n",
      "the fibonacci series for the 8 is  13\n",
      "the fibonacci series for the 9 is  21\n"
     ]
    }
   ],
   "source": [
    "n = int(input('enter the  number '))\n",
    "i = 1\n",
    "a = 0\n",
    "b = 1\n",
    "sum = a+b\n",
    "while(i<=n):\n",
    "    print(f'the fibonacci series for the {i} is ',a)\n",
    "    a = b\n",
    "    b = sum\n",
    "    sum = a+b\n",
    "    \n",
    "    i+=1"
   ]
  },
  {
   "cell_type": "code",
   "execution_count": null,
   "id": "379544e3-6957-4003-a0cb-0744d8ba5813",
   "metadata": {},
   "outputs": [],
   "source": []
  }
 ],
 "metadata": {
  "kernelspec": {
   "display_name": "Python 3 (ipykernel)",
   "language": "python",
   "name": "python3"
  },
  "language_info": {
   "codemirror_mode": {
    "name": "ipython",
    "version": 3
   },
   "file_extension": ".py",
   "mimetype": "text/x-python",
   "name": "python",
   "nbconvert_exporter": "python",
   "pygments_lexer": "ipython3",
   "version": "3.13.3"
  }
 },
 "nbformat": 4,
 "nbformat_minor": 5
}
