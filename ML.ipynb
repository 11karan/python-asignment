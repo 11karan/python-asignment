{
 "cells": [
  {
   "cell_type": "code",
   "execution_count": 1,
   "id": "ccc01d66-96b3-48b0-8cda-fde8a6cdeaa3",
   "metadata": {},
   "outputs": [],
   "source": [
    "#Introduction to Machine Learning ---- >\n",
    "\n",
    "#Data(df) --- > x(input) , y(output)\n",
    "#x ----- > x_train , x_test\n",
    "#y ---- > y_train , y_test\n",
    "\n",
    "#Machine find the relation between input to target data .\n",
    "\n",
    "#Machine (input) --- > output ????\n",
    "\n",
    "#Machine(x_train , y_train) ---- > Machine(x_test) ---- > output ?????\n",
    "#Actual_output = y_test , Machine_predict = y_pred\n",
    "#Machine Capability ---- > y_test <--- > y_pred"
   ]
  },
  {
   "cell_type": "markdown",
   "id": "00c525ff-971c-4c09-b195-13975c63cee2",
   "metadata": {},
   "source": [
    "# step-1 Data Dividation"
   ]
  },
  {
   "cell_type": "code",
   "execution_count": 3,
   "id": "e6e975b7-8559-48ed-a201-1eedafb10127",
   "metadata": {},
   "outputs": [
    {
     "data": {
      "text/html": [
       "<div>\n",
       "<style scoped>\n",
       "    .dataframe tbody tr th:only-of-type {\n",
       "        vertical-align: middle;\n",
       "    }\n",
       "\n",
       "    .dataframe tbody tr th {\n",
       "        vertical-align: top;\n",
       "    }\n",
       "\n",
       "    .dataframe thead th {\n",
       "        text-align: right;\n",
       "    }\n",
       "</style>\n",
       "<table border=\"1\" class=\"dataframe\">\n",
       "  <thead>\n",
       "    <tr style=\"text-align: right;\">\n",
       "      <th></th>\n",
       "      <th>age</th>\n",
       "      <th>gender</th>\n",
       "      <th>fever</th>\n",
       "      <th>cough</th>\n",
       "      <th>city</th>\n",
       "      <th>has_covid</th>\n",
       "    </tr>\n",
       "  </thead>\n",
       "  <tbody>\n",
       "    <tr>\n",
       "      <th>0</th>\n",
       "      <td>60</td>\n",
       "      <td>Male</td>\n",
       "      <td>103.0</td>\n",
       "      <td>Mild</td>\n",
       "      <td>Kolkata</td>\n",
       "      <td>No</td>\n",
       "    </tr>\n",
       "    <tr>\n",
       "      <th>1</th>\n",
       "      <td>27</td>\n",
       "      <td>Male</td>\n",
       "      <td>100.0</td>\n",
       "      <td>Mild</td>\n",
       "      <td>Delhi</td>\n",
       "      <td>Yes</td>\n",
       "    </tr>\n",
       "    <tr>\n",
       "      <th>2</th>\n",
       "      <td>42</td>\n",
       "      <td>Male</td>\n",
       "      <td>101.0</td>\n",
       "      <td>Mild</td>\n",
       "      <td>Delhi</td>\n",
       "      <td>No</td>\n",
       "    </tr>\n",
       "  </tbody>\n",
       "</table>\n",
       "</div>"
      ],
      "text/plain": [
       "   age gender  fever cough     city has_covid\n",
       "0   60   Male  103.0  Mild  Kolkata        No\n",
       "1   27   Male  100.0  Mild    Delhi       Yes\n",
       "2   42   Male  101.0  Mild    Delhi        No"
      ]
     },
     "execution_count": 3,
     "metadata": {},
     "output_type": "execute_result"
    }
   ],
   "source": [
    "import numpy as np\n",
    "import pandas as pd\n",
    "\n",
    "df = pd.read_csv(\"C:\\\\Users\\\\DELL\\\\Documents\\\\covid_toy.csv\")\n",
    "df.head(3)"
   ]
  },
  {
   "cell_type": "code",
   "execution_count": 4,
   "id": "dc494b77-f5ea-4a06-8148-857664f9bd7c",
   "metadata": {},
   "outputs": [
    {
     "data": {
      "text/plain": [
       "(100, 6)"
      ]
     },
     "execution_count": 4,
     "metadata": {},
     "output_type": "execute_result"
    }
   ],
   "source": [
    "df.shape"
   ]
  },
  {
   "cell_type": "code",
   "execution_count": 5,
   "id": "e1e209fa-e100-42eb-aa93-45101f1c09cd",
   "metadata": {},
   "outputs": [],
   "source": [
    "df['fever'] = df['fever'].fillna(df['fever'].mean())"
   ]
  },
  {
   "cell_type": "code",
   "execution_count": 6,
   "id": "26426666-94a3-4802-a04c-db0941164198",
   "metadata": {},
   "outputs": [],
   "source": [
    "x = df.drop(columns = ['has_covid'])"
   ]
  },
  {
   "cell_type": "code",
   "execution_count": 7,
   "id": "1263cdea-5611-4e28-87cd-e5b2cfcf5633",
   "metadata": {},
   "outputs": [],
   "source": [
    "y = df['has_covid']"
   ]
  },
  {
   "cell_type": "code",
   "execution_count": 9,
   "id": "1fae654a-e430-4a3e-941f-92faa4e3ced8",
   "metadata": {},
   "outputs": [],
   "source": [
    "from sklearn.model_selection import train_test_split"
   ]
  },
  {
   "cell_type": "code",
   "execution_count": 11,
   "id": "0d26507e-6092-4bc7-8724-3aa8168b5063",
   "metadata": {},
   "outputs": [],
   "source": [
    "x_train, x_test, y_train, y_test = train_test_split(x,y,test_size=0.2, random_state=30)"
   ]
  },
  {
   "cell_type": "code",
   "execution_count": 10,
   "id": "6ec159a9-7abd-4f62-abeb-95bfa5b357e1",
   "metadata": {},
   "outputs": [
    {
     "ename": "SyntaxError",
     "evalue": "unterminated string literal (detected at line 2) (3021201784.py, line 2)",
     "output_type": "error",
     "traceback": [
      "  \u001b[36mCell\u001b[39m\u001b[36m \u001b[39m\u001b[32mIn[10]\u001b[39m\u001b[32m, line 2\u001b[39m\n\u001b[31m    \u001b[39m\u001b[31mprint(\"\u001b[39m\n          ^\n\u001b[31mSyntaxError\u001b[39m\u001b[31m:\u001b[39m unterminated string literal (detected at line 2)\n"
     ]
    }
   ],
   "source": [
    "\n",
    "print(\"Total data shape :\" , df.shape)\n",
    "print(\"\n",
    "print(\"Input data(x) shape:\" , x.shape)\n",
    "print(\"x_train data shape:\" , x_train.shape)\n",
    "print(\"x_test data shape:\" , x_test. shape)\n",
    "print(\"-\n",
    "\n",
    "print(\"Target data shape(y):\" , y.shape)\n",
    "print(\"y_train data shape :\" , y_train.shape)\n",
    "print(\"y_test data shape:\" , y_test.shape)\n",
    "print(\" -------- \""
   ]
  },
  {
   "cell_type": "code",
   "execution_count": null,
   "id": "770260e2-8f50-4c45-92ff-2b466172a639",
   "metadata": {},
   "outputs": [],
   "source": []
  }
 ],
 "metadata": {
  "kernelspec": {
   "display_name": "Python 3 (ipykernel)",
   "language": "python",
   "name": "python3"
  },
  "language_info": {
   "codemirror_mode": {
    "name": "ipython",
    "version": 3
   },
   "file_extension": ".py",
   "mimetype": "text/x-python",
   "name": "python",
   "nbconvert_exporter": "python",
   "pygments_lexer": "ipython3",
   "version": "3.13.3"
  }
 },
 "nbformat": 4,
 "nbformat_minor": 5
}
