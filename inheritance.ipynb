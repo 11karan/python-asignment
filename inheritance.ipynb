{
 "cells": [
  {
   "cell_type": "code",
   "execution_count": 7,
   "id": "b9b9277b-89d4-4b58-9912-68ac7f74273c",
   "metadata": {},
   "outputs": [
    {
     "name": "stdout",
     "output_type": "stream",
     "text": [
      "the sound of the mahindra is vruum\n",
      "the sound of the mahindra is rorrr\n"
     ]
    }
   ],
   "source": [
    "#inheritance\n",
    "class vehicle:\n",
    "    def __init__(self,name):\n",
    "        self.name = name\n",
    "    def voice(self):\n",
    "        return f'the sound of the {self.name} is vruum'\n",
    "class car(vehicle):\n",
    "    def __init__(self,name,sound):\n",
    "        super().__init__(name)\n",
    "        self.sound = sound\n",
    "    def car_sound(self):\n",
    "        return f'the sound of the {self.name} is {self.sound}'\n",
    "obj = car('mahindra','rorrr')\n",
    "print(obj.voice())\n",
    "print(obj.car_sound())"
   ]
  },
  {
   "cell_type": "code",
   "execution_count": 12,
   "id": "eaffe9b8-a51d-4c38-9094-ff0b3f760b19",
   "metadata": {},
   "outputs": [
    {
     "name": "stdout",
     "output_type": "stream",
     "text": [
      "dada is 74 years old\n",
      "papa is 50 old\n",
      "karan is 22 old\n"
     ]
    }
   ],
   "source": [
    "#multilevel\n",
    "class Grandfather:\n",
    "    def __init__(self,grandfathername,g_age):\n",
    "        self.grandfathername = grandfathername\n",
    "        self.g_age = g_age\n",
    "    def grand_age(self):\n",
    "        return f'{self.grandfathername} is {self.g_age} years old'\n",
    "class father(Grandfather):\n",
    "    def __init__(self,grandfathername,g_age,fathername,f_age):\n",
    "        super().__init__(grandfathername,g_age)\n",
    "        self.fathername = fathername\n",
    "        self.f_age = f_age\n",
    "    def father_age(self):\n",
    "        return f'{self.fathername} is {self.f_age} old'\n",
    "class son(father):\n",
    "    def __init__(self,grandfathername,g_age,fathername,f_age,sonname,s_age):\n",
    "        super().__init__(grandfathername,g_age,fathername,f_age)\n",
    "        self.sonname = sonname\n",
    "        self.s_age = s_age\n",
    "    def son_age(self):\n",
    "        return f'{self.sonname} is {self.s_age} old'\n",
    "family = son('dada',74,'papa',50,'karan',22)\n",
    "print(family.grand_age())\n",
    "print(family.father_age())\n",
    "print(family.son_age())"
   ]
  },
  {
   "cell_type": "code",
   "execution_count": 18,
   "id": "abaa4d49-c331-4ec9-adce-6122a84c7802",
   "metadata": {},
   "outputs": [
    {
     "name": "stdout",
     "output_type": "stream",
     "text": [
      "the fruit is mango\n",
      "the fruit color is yellow\n",
      "the fruit taste is sweet\n"
     ]
    }
   ],
   "source": [
    "#multiple\n",
    "class Taste:\n",
    "    def __init__(self,taste):\n",
    "        self.taste = taste\n",
    "    def check_taste(self):\n",
    "        return f'the taste is {self.taste}'\n",
    "class Color:\n",
    "    def __init__(self,color):\n",
    "        self.color = color\n",
    "    def check_color(self):\n",
    "        return f'the color is {self.color}'\n",
    "class fruit(taste,color):\n",
    "    def __init__(self,name,taste,color):\n",
    "        Taste.__init__(self,taste)\n",
    "        Color.__init__(self,color)\n",
    "        self.name = name\n",
    "    def print_values(self):\n",
    "        print(f'the fruit is {self.name}')\n",
    "        print(f'the fruit color is {self.color}')\n",
    "        print(f'the fruit taste is {self.taste}')\n",
    "fruit = fruit('mango','sweet','yellow')\n",
    "fruit.print_values()"
   ]
  },
  {
   "cell_type": "code",
   "execution_count": 19,
   "id": "88561131-ac91-4643-82d9-900e66f95c07",
   "metadata": {},
   "outputs": [
    {
     "name": "stdout",
     "output_type": "stream",
     "text": [
      "120\n"
     ]
    }
   ],
   "source": [
    "#recursion\n",
    "def factorial(n):\n",
    "    if n == 0:\n",
    "        return 1\n",
    "    else:\n",
    "        return n * factorial(n-1)\n",
    "\n",
    "print(factorial(5))"
   ]
  },
  {
   "cell_type": "code",
   "execution_count": null,
   "id": "f125b27a-ed61-4e7f-a957-cb4905c62788",
   "metadata": {},
   "outputs": [],
   "source": []
  }
 ],
 "metadata": {
  "kernelspec": {
   "display_name": "Python 3 (ipykernel)",
   "language": "python",
   "name": "python3"
  },
  "language_info": {
   "codemirror_mode": {
    "name": "ipython",
    "version": 3
   },
   "file_extension": ".py",
   "mimetype": "text/x-python",
   "name": "python",
   "nbconvert_exporter": "python",
   "pygments_lexer": "ipython3",
   "version": "3.13.3"
  }
 },
 "nbformat": 4,
 "nbformat_minor": 5
}
