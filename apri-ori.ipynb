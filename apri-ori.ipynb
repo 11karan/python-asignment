{
 "cells": [
  {
   "cell_type": "markdown",
   "id": "73944fb0-eb73-4be3-886f-cd4f7ebc15d5",
   "metadata": {},
   "source": [
    "# What is Apri-Ori algo in ml\n",
    "It is an frequent pattern mining algo that is used in association rule learning , it is widely used in market basket analysis to find association and related things btw items in large data sets of transactions"
   ]
  },
  {
   "cell_type": "markdown",
   "id": "05947184-5c6d-408e-abfa-6b48d851e247",
   "metadata": {},
   "source": [
    "# HOW APTI-ORI WORKS\n",
    "(1).it identify all frequent items in an data set     \n",
    "(2).Then it extend them to larger item sets as long as those item sets appear frequently enough in the data.    \n",
    "(3). Then it use he frqeunt item sets to genrate association rules"
   ]
  },
  {
   "cell_type": "markdown",
   "id": "ec263f41-f894-4ca6-bee7-d86e2c891a7a",
   "metadata": {},
   "source": [
    "## KEY MATRIX\n",
    "(1). Support--> how frqeuntly an item set appears in the data set \n",
    "support of a to b = transaction (a)union(b)/total transactions ...  \n",
    "it measures how popular the rule is.   \n",
    "(2). Confidence --> How ofen item in b appear in transaction that contain a. confi a t0 b= support od a union b/ support of a...  \n",
    "It measures the strength of implitaions. High confidence means when a occurs b ofen occurs too  \n",
    "(3). lift--> how much more ofen a and b oocur togetherthen expected if they were statuscaily independent \n",
    "     lift a to b = confidence of a to b/support of b ...    \n",
    "     If lift is greater then 1 hten it means positive corelation    \n",
    "     if lift is = 1 no corelation   \n",
    "     if lift is less then 1 negative corelation    "
   ]
  },
  {
   "cell_type": "code",
   "execution_count": null,
   "id": "24c33bb0-51b2-45ba-b8c3-069c6be196b9",
   "metadata": {},
   "outputs": [],
   "source": [
    "# transaction id        items bought\n",
    "# 1                      mik , bread\n",
    "# 2                      milk bread butter\n",
    "# 3                      bread butter\n",
    "# 4                      milk butter\n",
    "# 5                      bread"
   ]
  },
  {
   "cell_type": "code",
   "execution_count": null,
   "id": "ef018365-ea3d-40b0-a7d3-a7d2bd52e943",
   "metadata": {},
   "outputs": [],
   "source": [
    "# association of milk to butter\n",
    "# (1)support\n",
    "# transaction with milk and butter = 2\n",
    "# total transaction = 5\n",
    "# support of milk to butter = 2/5 = .4\n",
    "# support = 40%\n",
    "# (2)confidence \n",
    "# among all transactions of milk how many also have butter\n",
    "# transaction of milk = 3\n",
    "# milk with butter = 2\n",
    "# confidence of milk with butter = 2/3 = .67\n",
    "# confidence = 67%\n",
    "# (3) lift\n",
    "# how much more likely someone is to buy butter if they buy milk compare to just buying butter by itself\n",
    "# support of butter = 3/5 = .6\n",
    "# lift of butter = confidence / support of butter = .67/.6 = 1.11\n",
    "# lift = 1.11 means milk buyers are 11% more likely to buy butter then general customers\n",
    "#    (postive corelation)"
   ]
  },
  {
   "cell_type": "markdown",
   "id": "a2dc66d9-931a-4470-a1de-278631739d9b",
   "metadata": {},
   "source": [
    "# Interview Questions\n",
    "(1). What is apri-ori algo in ml.what are the suppport confidence and lift in the context of this algo.     \n",
    "(2).What are the main assumptions or limitations of the apri-ori algo.   \n",
    "(3).What are the main steps in apri-ori algo    \n",
    "....................................................................     \n",
    "(1).What is pca and why do we use pca      \n",
    "(2).How does pca works     \n",
    "(3).Does pca always improves model performance      \n",
    "(4).How do ypu choose the no. of component in pca    \n",
    "(5).What are some limitations of pca     "
   ]
  },
  {
   "cell_type": "code",
   "execution_count": null,
   "id": "b2f3bae1-55eb-489e-be8b-c604a4defb6f",
   "metadata": {},
   "outputs": [],
   "source": []
  }
 ],
 "metadata": {
  "kernelspec": {
   "display_name": "Python 3 (ipykernel)",
   "language": "python",
   "name": "python3"
  },
  "language_info": {
   "codemirror_mode": {
    "name": "ipython",
    "version": 3
   },
   "file_extension": ".py",
   "mimetype": "text/x-python",
   "name": "python",
   "nbconvert_exporter": "python",
   "pygments_lexer": "ipython3",
   "version": "3.13.3"
  }
 },
 "nbformat": 4,
 "nbformat_minor": 5
}
