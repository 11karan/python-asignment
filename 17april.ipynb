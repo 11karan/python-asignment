{
 "cells": [
  {
   "cell_type": "code",
   "execution_count": 8,
   "id": "01d0b664-d4bb-425c-905e-52d00e4c9a4f",
   "metadata": {},
   "outputs": [
    {
     "name": "stdin",
     "output_type": "stream",
     "text": [
      "enter number one 12\n",
      "enter number second 68\n"
     ]
    },
    {
     "name": "stdout",
     "output_type": "stream",
     "text": [
      "the factors are  2\n",
      "the factors are  2\n",
      "the factors are  3\n",
      "the factors are  17\n",
      "the lcm is  204\n"
     ]
    }
   ],
   "source": [
    "n = int(input('enter number one'))\n",
    "m = int(input('enter number second'))\n",
    "i=2\n",
    "sum = 1\n",
    "c = m\n",
    "while(i<=c):\n",
    "    if(n%i == 0 or m%i==0):\n",
    "        if(n%i==0):\n",
    "            n//=i\n",
    "        if(m%i==0):\n",
    "            m//=i\n",
    "        sum*=i\n",
    "        print('the factors are ',i)\n",
    "    else:\n",
    "        i+=1\n",
    "    \n",
    "print('the lcm is ',sum)    "
   ]
  },
  {
   "cell_type": "code",
   "execution_count": 16,
   "id": "4a8984bf-e89d-40fc-bc63-f0b4eee742ca",
   "metadata": {},
   "outputs": [
    {
     "name": "stdin",
     "output_type": "stream",
     "text": [
      "enter number one 77\n"
     ]
    },
    {
     "name": "stdout",
     "output_type": "stream",
     "text": [
      "it is not an prime number\n"
     ]
    }
   ],
   "source": [
    "n= int(input('enter number one'))\n",
    "i = 2\n",
    "out = 0\n",
    "while(i<n):\n",
    "    if(n%i==0):\n",
    "        out+=1\n",
    "        break\n",
    "    else:\n",
    "        i+=1\n",
    "if(out == 0):\n",
    "    print('it is an prime number')\n",
    "else:\n",
    "    print('it is not an prime number')"
   ]
  },
  {
   "cell_type": "code",
   "execution_count": 11,
   "id": "a03203b7-fe0a-443e-8a2e-daf66051386c",
   "metadata": {},
   "outputs": [
    {
     "name": "stdin",
     "output_type": "stream",
     "text": [
      "enter number one 23\n"
     ]
    },
    {
     "name": "stdout",
     "output_type": "stream",
     "text": [
      "prime number 2\n",
      "prime number 3\n",
      "prime number 5\n",
      "prime number 7\n",
      "prime number 11\n",
      "prime number 13\n",
      "prime number 17\n",
      "prime number 19\n",
      "prime number 23\n"
     ]
    }
   ],
   "source": [
    "n= int(input('enter number one'))\n",
    "i = 2\n",
    "while(i<=n):\n",
    "    c = 2\n",
    "    out = 0\n",
    "    while(c<i):\n",
    "        if(i%c==0):\n",
    "            out+=1\n",
    "            break\n",
    "        else:\n",
    "            c+=1\n",
    "    if(out == 0):\n",
    "        print('prime number',i)\n",
    "    i+=1\n",
    "    "
   ]
  },
  {
   "cell_type": "code",
   "execution_count": 12,
   "id": "db3da709-3403-41b6-a36e-2c2162fcea7e",
   "metadata": {},
   "outputs": [
    {
     "name": "stdin",
     "output_type": "stream",
     "text": [
      "enter number one 23\n",
      "enter number second 45\n"
     ]
    },
    {
     "name": "stdout",
     "output_type": "stream",
     "text": [
      "the factors are  3\n",
      "the factors are  3\n",
      "the factors are  5\n",
      "the factors are  23\n"
     ]
    }
   ],
   "source": [
    "n = int(input('enter number one'))\n",
    "m = int(input('enter number second'))\n",
    "i=2\n",
    "sum = 1\n",
    "c = m\n",
    "while(i<=c):\n",
    "    if(n%i == 0 or m%i==0):\n",
    "        if(n%i==0):\n",
    "            n//=i\n",
    "        if(m%i==0):\n",
    "            m//=i\n",
    "        sum*=i\n",
    "        print('the factors are ',i)\n",
    "    else:\n",
    "        i+=1"
   ]
  },
  {
   "cell_type": "code",
   "execution_count": null,
   "id": "49b0f63e-c3f8-40a1-9b96-bcdb8f5f9b8a",
   "metadata": {},
   "outputs": [],
   "source": [
    "n = int(input('enter number one'))\n",
    "i = 1\n",
    "m = n\n",
    "count =1\n",
    "while(m>0):\n",
    "    m //=10\n",
    "    count+=1\n"
   ]
  }
 ],
 "metadata": {
  "kernelspec": {
   "display_name": "Python 3 (ipykernel)",
   "language": "python",
   "name": "python3"
  },
  "language_info": {
   "codemirror_mode": {
    "name": "ipython",
    "version": 3
   },
   "file_extension": ".py",
   "mimetype": "text/x-python",
   "name": "python",
   "nbconvert_exporter": "python",
   "pygments_lexer": "ipython3",
   "version": "3.13.3"
  }
 },
 "nbformat": 4,
 "nbformat_minor": 5
}
